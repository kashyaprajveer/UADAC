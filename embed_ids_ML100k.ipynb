{
 "cells": [
  {
   "cell_type": "code",
   "execution_count": 1,
   "id": "56cc47ca",
   "metadata": {},
   "outputs": [],
   "source": [
    "#Dependencies\n",
    "import pandas as pd\n",
    "import numpy as np\n",
    "import itertools\n",
    "\n",
    "import logging, os\n",
    "\n",
    "logging.disable(logging.WARNING)\n",
    "os.environ[\"TF_CPP_MIN_LOG_LEVEL\"] = \"3\"\n",
    "\n",
    "import tensorflow as tf\n",
    "\n",
    "import matplotlib.pyplot as plt\n",
    "import plotly.express as px\n",
    "\n",
    "import time\n",
    "import tqdm\n",
    "\n",
    "\n",
    "ROOT_DIR = os.getcwd()\n",
    "STATE_SIZE = 10"
   ]
  },
  {
   "cell_type": "code",
   "execution_count": 2,
   "id": "024332ff",
   "metadata": {},
   "outputs": [],
   "source": [
    "#Loading datasets\n",
    "ratings_df = pd.read_csv(\"ratings.dat\")\n",
    "users_df = pd.read_csv(\"users.dat\")\n",
    "movies_df = pd.read_csv(\"movies.dat\")"
   ]
  },
  {
   "cell_type": "code",
   "execution_count": 3,
   "id": "37340f05",
   "metadata": {},
   "outputs": [
    {
     "data": {
      "text/html": [
       "<div>\n",
       "<style scoped>\n",
       "    .dataframe tbody tr th:only-of-type {\n",
       "        vertical-align: middle;\n",
       "    }\n",
       "\n",
       "    .dataframe tbody tr th {\n",
       "        vertical-align: top;\n",
       "    }\n",
       "\n",
       "    .dataframe thead th {\n",
       "        text-align: right;\n",
       "    }\n",
       "</style>\n",
       "<table border=\"1\" class=\"dataframe\">\n",
       "  <thead>\n",
       "    <tr style=\"text-align: right;\">\n",
       "      <th></th>\n",
       "      <th>UserID</th>\n",
       "      <th>MovieID</th>\n",
       "      <th>Rating</th>\n",
       "      <th>Timestamp</th>\n",
       "    </tr>\n",
       "  </thead>\n",
       "  <tbody>\n",
       "    <tr>\n",
       "      <th>0</th>\n",
       "      <td>259</td>\n",
       "      <td>255</td>\n",
       "      <td>4</td>\n",
       "      <td>874724710</td>\n",
       "    </tr>\n",
       "    <tr>\n",
       "      <th>1</th>\n",
       "      <td>259</td>\n",
       "      <td>286</td>\n",
       "      <td>4</td>\n",
       "      <td>874724727</td>\n",
       "    </tr>\n",
       "  </tbody>\n",
       "</table>\n",
       "</div>"
      ],
      "text/plain": [
       "   UserID  MovieID  Rating  Timestamp\n",
       "0     259      255       4  874724710\n",
       "1     259      286       4  874724727"
      ]
     },
     "execution_count": 3,
     "metadata": {},
     "output_type": "execute_result"
    }
   ],
   "source": [
    "ratings_df.head(2)"
   ]
  },
  {
   "cell_type": "code",
   "execution_count": 4,
   "id": "ec9137dd",
   "metadata": {},
   "outputs": [
    {
     "data": {
      "text/plain": [
       "<bound method DataFrame.count of        UserID  MovieID  Rating  Timestamp\n",
       "7         259      288       3  874724905\n",
       "11        259      405       3  874725120\n",
       "12        259     1074       3  874725264\n",
       "16        851      687       2  874728168\n",
       "17        851      696       3  874728338\n",
       "...       ...      ...     ...        ...\n",
       "99984     729      894       1  893286511\n",
       "99985     683      472       3  893286550\n",
       "99986     683      626       3  893286550\n",
       "99996     729      313       3  893286638\n",
       "99997     729      328       3  893286638\n",
       "\n",
       "[44625 rows x 4 columns]>"
      ]
     },
     "execution_count": 4,
     "metadata": {},
     "output_type": "execute_result"
    }
   ],
   "source": [
    "ratings_df[ratings_df['Rating']<=3].count"
   ]
  },
  {
   "cell_type": "code",
   "execution_count": 5,
   "id": "f8336f8a",
   "metadata": {},
   "outputs": [
    {
     "data": {
      "text/plain": [
       "(81239, 4)"
      ]
     },
     "execution_count": 5,
     "metadata": {},
     "output_type": "execute_result"
    }
   ],
   "source": [
    "t1 = ratings_df[ratings_df['UserID']<=755]\n",
    "t1.shape"
   ]
  },
  {
   "cell_type": "code",
   "execution_count": 6,
   "id": "93c2ded2",
   "metadata": {},
   "outputs": [
    {
     "data": {
      "text/html": [
       "<div>\n",
       "<style scoped>\n",
       "    .dataframe tbody tr th:only-of-type {\n",
       "        vertical-align: middle;\n",
       "    }\n",
       "\n",
       "    .dataframe tbody tr th {\n",
       "        vertical-align: top;\n",
       "    }\n",
       "\n",
       "    .dataframe thead th {\n",
       "        text-align: right;\n",
       "    }\n",
       "</style>\n",
       "<table border=\"1\" class=\"dataframe\">\n",
       "  <thead>\n",
       "    <tr style=\"text-align: right;\">\n",
       "      <th></th>\n",
       "      <th>UserID</th>\n",
       "      <th>MovieID</th>\n",
       "      <th>Rating</th>\n",
       "      <th>Timestamp</th>\n",
       "    </tr>\n",
       "  </thead>\n",
       "  <tbody>\n",
       "    <tr>\n",
       "      <th>0</th>\n",
       "      <td>259</td>\n",
       "      <td>255</td>\n",
       "      <td>4</td>\n",
       "      <td>874724710</td>\n",
       "    </tr>\n",
       "    <tr>\n",
       "      <th>1</th>\n",
       "      <td>259</td>\n",
       "      <td>286</td>\n",
       "      <td>4</td>\n",
       "      <td>874724727</td>\n",
       "    </tr>\n",
       "  </tbody>\n",
       "</table>\n",
       "</div>"
      ],
      "text/plain": [
       "   UserID  MovieID  Rating  Timestamp\n",
       "0     259      255       4  874724710\n",
       "1     259      286       4  874724727"
      ]
     },
     "execution_count": 6,
     "metadata": {},
     "output_type": "execute_result"
    }
   ],
   "source": [
    "t1.head(2)"
   ]
  },
  {
   "cell_type": "code",
   "execution_count": 7,
   "id": "049b8941",
   "metadata": {},
   "outputs": [
    {
     "data": {
      "text/plain": [
       "(18761, 4)"
      ]
     },
     "execution_count": 7,
     "metadata": {},
     "output_type": "execute_result"
    }
   ],
   "source": [
    "t2 = ratings_df[ratings_df['UserID']>755]\n",
    "t2.shape"
   ]
  },
  {
   "cell_type": "code",
   "execution_count": 8,
   "id": "16a39eaa",
   "metadata": {},
   "outputs": [
    {
     "data": {
      "text/html": [
       "<div>\n",
       "<style scoped>\n",
       "    .dataframe tbody tr th:only-of-type {\n",
       "        vertical-align: middle;\n",
       "    }\n",
       "\n",
       "    .dataframe tbody tr th {\n",
       "        vertical-align: top;\n",
       "    }\n",
       "\n",
       "    .dataframe thead th {\n",
       "        text-align: right;\n",
       "    }\n",
       "</style>\n",
       "<table border=\"1\" class=\"dataframe\">\n",
       "  <thead>\n",
       "    <tr style=\"text-align: right;\">\n",
       "      <th></th>\n",
       "      <th>UserID</th>\n",
       "      <th>MovieID</th>\n",
       "      <th>Rating</th>\n",
       "      <th>Timestamp</th>\n",
       "    </tr>\n",
       "  </thead>\n",
       "  <tbody>\n",
       "    <tr>\n",
       "      <th>16</th>\n",
       "      <td>851</td>\n",
       "      <td>687</td>\n",
       "      <td>2</td>\n",
       "      <td>874728168</td>\n",
       "    </tr>\n",
       "    <tr>\n",
       "      <th>17</th>\n",
       "      <td>851</td>\n",
       "      <td>696</td>\n",
       "      <td>3</td>\n",
       "      <td>874728338</td>\n",
       "    </tr>\n",
       "  </tbody>\n",
       "</table>\n",
       "</div>"
      ],
      "text/plain": [
       "    UserID  MovieID  Rating  Timestamp\n",
       "16     851      687       2  874728168\n",
       "17     851      696       3  874728338"
      ]
     },
     "execution_count": 8,
     "metadata": {},
     "output_type": "execute_result"
    }
   ],
   "source": [
    "t2.head(2)"
   ]
  },
  {
   "cell_type": "code",
   "execution_count": 9,
   "id": "da58dc81",
   "metadata": {},
   "outputs": [
    {
     "data": {
      "text/plain": [
       "(1880, 4)"
      ]
     },
     "execution_count": 9,
     "metadata": {},
     "output_type": "execute_result"
    }
   ],
   "source": [
    "t3 = t2.groupby('UserID').head(10).reset_index(drop=True)\n",
    "t3.shape"
   ]
  },
  {
   "cell_type": "code",
   "execution_count": 10,
   "id": "f7ece2ff",
   "metadata": {},
   "outputs": [
    {
     "data": {
      "text/html": [
       "<div>\n",
       "<style scoped>\n",
       "    .dataframe tbody tr th:only-of-type {\n",
       "        vertical-align: middle;\n",
       "    }\n",
       "\n",
       "    .dataframe tbody tr th {\n",
       "        vertical-align: top;\n",
       "    }\n",
       "\n",
       "    .dataframe thead th {\n",
       "        text-align: right;\n",
       "    }\n",
       "</style>\n",
       "<table border=\"1\" class=\"dataframe\">\n",
       "  <thead>\n",
       "    <tr style=\"text-align: right;\">\n",
       "      <th></th>\n",
       "      <th>UserID</th>\n",
       "      <th>MovieID</th>\n",
       "      <th>Rating</th>\n",
       "      <th>Timestamp</th>\n",
       "    </tr>\n",
       "  </thead>\n",
       "  <tbody>\n",
       "    <tr>\n",
       "      <th>0</th>\n",
       "      <td>851</td>\n",
       "      <td>687</td>\n",
       "      <td>2</td>\n",
       "      <td>874728168</td>\n",
       "    </tr>\n",
       "    <tr>\n",
       "      <th>1</th>\n",
       "      <td>851</td>\n",
       "      <td>696</td>\n",
       "      <td>3</td>\n",
       "      <td>874728338</td>\n",
       "    </tr>\n",
       "  </tbody>\n",
       "</table>\n",
       "</div>"
      ],
      "text/plain": [
       "   UserID  MovieID  Rating  Timestamp\n",
       "0     851      687       2  874728168\n",
       "1     851      696       3  874728338"
      ]
     },
     "execution_count": 10,
     "metadata": {},
     "output_type": "execute_result"
    }
   ],
   "source": [
    "t3.head(2)"
   ]
  },
  {
   "cell_type": "code",
   "execution_count": 11,
   "id": "4607ce0c",
   "metadata": {},
   "outputs": [
    {
     "data": {
      "text/plain": [
       "(83119, 4)"
      ]
     },
     "execution_count": 11,
     "metadata": {},
     "output_type": "execute_result"
    }
   ],
   "source": [
    "t4 = pd.concat([t1, t3], axis=0) \n",
    "t4.shape"
   ]
  },
  {
   "cell_type": "code",
   "execution_count": 12,
   "id": "adbcceb0",
   "metadata": {},
   "outputs": [],
   "source": [
    "ratings_df = t4"
   ]
  },
  {
   "cell_type": "code",
   "execution_count": 13,
   "id": "94f19547",
   "metadata": {},
   "outputs": [
    {
     "data": {
      "text/plain": [
       "(83119, 4)"
      ]
     },
     "execution_count": 13,
     "metadata": {},
     "output_type": "execute_result"
    }
   ],
   "source": [
    "ratings_df.shape"
   ]
  },
  {
   "cell_type": "code",
   "execution_count": 14,
   "id": "cbba71d3",
   "metadata": {},
   "outputs": [
    {
     "data": {
      "text/html": [
       "<div>\n",
       "<style scoped>\n",
       "    .dataframe tbody tr th:only-of-type {\n",
       "        vertical-align: middle;\n",
       "    }\n",
       "\n",
       "    .dataframe tbody tr th {\n",
       "        vertical-align: top;\n",
       "    }\n",
       "\n",
       "    .dataframe thead th {\n",
       "        text-align: right;\n",
       "    }\n",
       "</style>\n",
       "<table border=\"1\" class=\"dataframe\">\n",
       "  <thead>\n",
       "    <tr style=\"text-align: right;\">\n",
       "      <th></th>\n",
       "      <th>UserID</th>\n",
       "      <th>age</th>\n",
       "      <th>gender</th>\n",
       "      <th>occupation</th>\n",
       "      <th>zip code</th>\n",
       "    </tr>\n",
       "  </thead>\n",
       "  <tbody>\n",
       "    <tr>\n",
       "      <th>0</th>\n",
       "      <td>1</td>\n",
       "      <td>24</td>\n",
       "      <td>M</td>\n",
       "      <td>technician</td>\n",
       "      <td>85711</td>\n",
       "    </tr>\n",
       "    <tr>\n",
       "      <th>1</th>\n",
       "      <td>2</td>\n",
       "      <td>53</td>\n",
       "      <td>F</td>\n",
       "      <td>other</td>\n",
       "      <td>94043</td>\n",
       "    </tr>\n",
       "  </tbody>\n",
       "</table>\n",
       "</div>"
      ],
      "text/plain": [
       "   UserID  age gender  occupation zip code\n",
       "0       1   24      M  technician    85711\n",
       "1       2   53      F       other    94043"
      ]
     },
     "execution_count": 14,
     "metadata": {},
     "output_type": "execute_result"
    }
   ],
   "source": [
    "users_df.head(2)"
   ]
  },
  {
   "cell_type": "code",
   "execution_count": 15,
   "id": "d63a2326",
   "metadata": {},
   "outputs": [
    {
     "data": {
      "text/html": [
       "<div>\n",
       "<style scoped>\n",
       "    .dataframe tbody tr th:only-of-type {\n",
       "        vertical-align: middle;\n",
       "    }\n",
       "\n",
       "    .dataframe tbody tr th {\n",
       "        vertical-align: top;\n",
       "    }\n",
       "\n",
       "    .dataframe thead th {\n",
       "        text-align: right;\n",
       "    }\n",
       "</style>\n",
       "<table border=\"1\" class=\"dataframe\">\n",
       "  <thead>\n",
       "    <tr style=\"text-align: right;\">\n",
       "      <th></th>\n",
       "      <th>MovieID</th>\n",
       "      <th>movie title</th>\n",
       "      <th>Genre</th>\n",
       "    </tr>\n",
       "  </thead>\n",
       "  <tbody>\n",
       "    <tr>\n",
       "      <th>0</th>\n",
       "      <td>1</td>\n",
       "      <td>Toy Story (1995)</td>\n",
       "      <td>[2, 3, 4]</td>\n",
       "    </tr>\n",
       "    <tr>\n",
       "      <th>1</th>\n",
       "      <td>2</td>\n",
       "      <td>GoldenEye (1995)</td>\n",
       "      <td>[0, 1, 15]</td>\n",
       "    </tr>\n",
       "  </tbody>\n",
       "</table>\n",
       "</div>"
      ],
      "text/plain": [
       "   MovieID       movie title       Genre\n",
       "0        1  Toy Story (1995)   [2, 3, 4]\n",
       "1        2  GoldenEye (1995)  [0, 1, 15]"
      ]
     },
     "execution_count": 15,
     "metadata": {},
     "output_type": "execute_result"
    }
   ],
   "source": [
    "movies_df.head(2)"
   ]
  },
  {
   "cell_type": "code",
   "execution_count": 16,
   "id": "dfaa482d",
   "metadata": {},
   "outputs": [],
   "source": [
    "movies_df['MovieID'] = movies_df['MovieID'].apply(pd.to_numeric)"
   ]
  },
  {
   "cell_type": "code",
   "execution_count": 17,
   "id": "111d11fc",
   "metadata": {},
   "outputs": [
    {
     "data": {
      "text/plain": [
       "UserID       0\n",
       "MovieID      0\n",
       "Rating       0\n",
       "Timestamp    0\n",
       "dtype: int64"
      ]
     },
     "execution_count": 17,
     "metadata": {},
     "output_type": "execute_result"
    }
   ],
   "source": [
    "ratings_df.isnull().sum()"
   ]
  },
  {
   "cell_type": "code",
   "execution_count": 18,
   "id": "a0edbc2d",
   "metadata": {},
   "outputs": [
    {
     "data": {
      "text/plain": [
       "943"
      ]
     },
     "execution_count": 18,
     "metadata": {},
     "output_type": "execute_result"
    }
   ],
   "source": [
    "users_df['UserID'].nunique()"
   ]
  },
  {
   "cell_type": "code",
   "execution_count": 19,
   "id": "4f1731af",
   "metadata": {},
   "outputs": [
    {
     "data": {
      "text/plain": [
       "1682"
      ]
     },
     "execution_count": 19,
     "metadata": {},
     "output_type": "execute_result"
    }
   ],
   "source": [
    "movies_df['MovieID'].nunique()"
   ]
  },
  {
   "cell_type": "code",
   "execution_count": 20,
   "id": "209a40ff",
   "metadata": {},
   "outputs": [
    {
     "data": {
      "text/plain": [
       "Rating\n",
       "3    16\n",
       "2     7\n",
       "4     5\n",
       "5     5\n",
       "1     3\n",
       "dtype: int64"
      ]
     },
     "execution_count": 20,
     "metadata": {},
     "output_type": "execute_result"
    }
   ],
   "source": [
    "a = ratings_df[ratings_df['MovieID'] == 768]\n",
    "a.value_counts(\"Rating\")\n"
   ]
  },
  {
   "cell_type": "markdown",
   "id": "74b5d6dc",
   "metadata": {},
   "source": [
    "# Create a model"
   ]
  },
  {
   "cell_type": "code",
   "execution_count": 21,
   "id": "db3064de",
   "metadata": {},
   "outputs": [],
   "source": [
    "genres = ['Action',\n",
    "        'Adventure',\n",
    "        'Animation',\n",
    "        \"Children's\",\n",
    "        'Comedy',\n",
    "        'Crime',\n",
    "        'Documentary',\n",
    "        'Drama',\n",
    "        'Fantasy',\n",
    "        'Film-Noir',\n",
    "        'Horror',\n",
    "        'Musical',\n",
    "        'Mystery',\n",
    "        'Romance',\n",
    "        'Sci-Fi',\n",
    "        'Thriller',\n",
    "        'War',\n",
    "        'Western',\n",
    "         '']"
   ]
  },
  {
   "cell_type": "code",
   "execution_count": 22,
   "id": "1766755c",
   "metadata": {},
   "outputs": [],
   "source": [
    "LEN_MOVIES = max(movies_df[\"MovieID\"])+1\n",
    "LEN_GENRES = len(genres)+1\n",
    "LEN_USERS = max(ratings_df['UserID'])+1\n",
    "EMBEDDING_SIZE = 50"
   ]
  },
  {
   "cell_type": "code",
   "execution_count": 23,
   "id": "48b1a949",
   "metadata": {},
   "outputs": [
    {
     "data": {
      "text/plain": [
       "1683"
      ]
     },
     "execution_count": 23,
     "metadata": {},
     "output_type": "execute_result"
    }
   ],
   "source": [
    "LEN_MOVIES"
   ]
  },
  {
   "cell_type": "code",
   "execution_count": 24,
   "id": "2badab55",
   "metadata": {},
   "outputs": [
    {
     "data": {
      "text/plain": [
       "20"
      ]
     },
     "execution_count": 24,
     "metadata": {},
     "output_type": "execute_result"
    }
   ],
   "source": [
    "LEN_GENRES"
   ]
  },
  {
   "cell_type": "code",
   "execution_count": 25,
   "id": "8ce66553",
   "metadata": {},
   "outputs": [
    {
     "data": {
      "text/plain": [
       "944"
      ]
     },
     "execution_count": 25,
     "metadata": {},
     "output_type": "execute_result"
    }
   ],
   "source": [
    "LEN_USERS"
   ]
  },
  {
   "cell_type": "markdown",
   "id": "a40086fe",
   "metadata": {},
   "source": [
    "# User batch generator"
   ]
  },
  {
   "cell_type": "code",
   "execution_count": 26,
   "id": "dc1b0af9",
   "metadata": {},
   "outputs": [],
   "source": [
    "modified_user_movie_rating_df = ratings_df.apply(np.int32)\n",
    "\n",
    "index_names = modified_user_movie_rating_df[modified_user_movie_rating_df['Rating']<1].index"
   ]
  },
  {
   "cell_type": "code",
   "execution_count": 27,
   "id": "6684f6e7",
   "metadata": {},
   "outputs": [
    {
     "data": {
      "text/plain": [
       "array([[259, 255],\n",
       "       [259, 286],\n",
       "       [259, 298],\n",
       "       [259, 185],\n",
       "       [259, 173]])"
      ]
     },
     "execution_count": 27,
     "metadata": {},
     "output_type": "execute_result"
    }
   ],
   "source": [
    "modified_user_movie_rating_df = modified_user_movie_rating_df.drop(index_names)\n",
    "modified_user_movie_rating_df = modified_user_movie_rating_df.drop('Rating', axis=1)\n",
    "modified_user_movie_rating_df = modified_user_movie_rating_df.drop('Timestamp', axis=1)\n",
    "u_m_pairs = modified_user_movie_rating_df.to_numpy()\n",
    "u_m_pairs[:5]"
   ]
  },
  {
   "cell_type": "code",
   "execution_count": 28,
   "id": "9ad0fd7b",
   "metadata": {},
   "outputs": [],
   "source": [
    "positive_user_movie_dict = {u : [] for u in range(1, max(modified_user_movie_rating_df['UserID'])+1)}\n",
    "for data in modified_user_movie_rating_df.iterrows():\n",
    "    positive_user_movie_dict[data[1][0]].append(data[1][1])\n",
    "#positive_user_movie_dict[1]"
   ]
  },
  {
   "cell_type": "code",
   "execution_count": 29,
   "id": "bf3583cf",
   "metadata": {},
   "outputs": [],
   "source": [
    "def generate_user_movie_batch(positive_pairs, batch_size, negative_ratio=0.5):\n",
    "    batch = np.zeros((batch_size, 3))\n",
    "    positive_batch_size = batch_size - int(batch_size*negative_ratio)\n",
    "    max_user_id = max(modified_user_movie_rating_df['UserID'])+1\n",
    "    max_movie_id = max(modified_user_movie_rating_df['MovieID'])+1\n",
    "    \n",
    "    while True:\n",
    "        idx = np.random.choice(len(positive_pairs), positive_batch_size)\n",
    "        data = positive_pairs[idx]\n",
    "        for i, d in enumerate(data):\n",
    "            batch[i] = (d[0], d[1], 1)\n",
    "        \n",
    "        while i+1 < batch_size:\n",
    "            u = np.random.randint(1, max_user_id)\n",
    "            m = np.random.randint(1, max_movie_id)\n",
    "            if m not in positive_user_movie_dict[u]:\n",
    "                i += 1\n",
    "                batch[i] = (u, m, 0)\n",
    "        \n",
    "        np.random.shuffle(batch)\n",
    "        yield batch[:,0], batch[:,1], batch[:,2]"
   ]
  },
  {
   "cell_type": "code",
   "execution_count": 30,
   "id": "3c3d716a",
   "metadata": {},
   "outputs": [],
   "source": [
    "from tensorflow.keras.layers import InputLayer, Embedding, Dot, Reshape, Dense\n",
    "from tensorflow.keras.models import Model"
   ]
  },
  {
   "cell_type": "code",
   "execution_count": 31,
   "id": "59e1013f",
   "metadata": {},
   "outputs": [],
   "source": [
    "class TestUserMovieEmbedding(tf.keras.Model):\n",
    "    def __init__(self, len_users,len_movies, embedding_size):\n",
    "        super(TestUserMovieEmbedding, self).__init__()\n",
    "        self.m_u_input = InputLayer(name='input_layer', input_shape=(2,))\n",
    "        # embedding\n",
    "        self.u_embedding = Embedding(name='user_embedding', input_dim=len_users, output_dim=embedding_size)\n",
    "        self.m_embedding = Embedding(name='movie_embedding', input_dim=len_movies, output_dim=embedding_size)\n",
    "        # dot product\n",
    "        self.m_u_merge = Dot(name='movie_user_dot', normalize=False, axes=1)\n",
    "        # output\n",
    "        self.m_u_fc = Dense(1, activation='sigmoid')\n",
    "        \n",
    "    def call(self, x):\n",
    "        x = self.m_u_input(x)\n",
    "        uemb = self.u_embedding(x[0])\n",
    "        memb = self.m_embedding(x[1])\n",
    "        m_u = self.m_u_merge([memb, uemb])\n",
    "        return self.m_u_fc(m_u)"
   ]
  },
  {
   "cell_type": "code",
   "execution_count": 32,
   "id": "2108ffd1",
   "metadata": {},
   "outputs": [],
   "source": [
    "MAX_EPOCH = 150\n",
    "INIT_USER_BATCH_SIZE = 64\n",
    "FINAL_USER_BATCH_SIZE = 1024"
   ]
  },
  {
   "cell_type": "code",
   "execution_count": 33,
   "id": "171b978c",
   "metadata": {},
   "outputs": [
    {
     "name": "stdout",
     "output_type": "stream",
     "text": [
      "Model: \"test_user_movie_embedding\"\n",
      "_________________________________________________________________\n",
      " Layer (type)                Output Shape              Param #   \n",
      "=================================================================\n",
      " input_layer (InputLayer)    [(None, 2)]               0         \n",
      "                                                                 \n",
      " user_embedding (Embedding)  multiple                  47200     \n",
      "                                                                 \n",
      " movie_embedding (Embedding)  multiple                 84150     \n",
      "                                                                 \n",
      " movie_user_dot (Dot)        multiple                  0         \n",
      "                                                                 \n",
      " dense (Dense)               multiple                  2         \n",
      "                                                                 \n",
      "=================================================================\n",
      "Total params: 131,352\n",
      "Trainable params: 131,352\n",
      "Non-trainable params: 0\n",
      "_________________________________________________________________\n"
     ]
    }
   ],
   "source": [
    "test_model = TestUserMovieEmbedding(LEN_USERS, LEN_MOVIES, EMBEDDING_SIZE)\n",
    "\n",
    "test_model([np.zeros((1)),np.zeros((1))])\n",
    "test_model.summary()"
   ]
  },
  {
   "cell_type": "code",
   "execution_count": 34,
   "id": "51a78998",
   "metadata": {},
   "outputs": [],
   "source": [
    "# optimizer\n",
    "optimizer = tf.keras.optimizers.Adam()\n",
    "# loss\n",
    "bce = tf.keras.losses.BinaryCrossentropy()"
   ]
  },
  {
   "cell_type": "code",
   "execution_count": 35,
   "id": "68650cbf",
   "metadata": {},
   "outputs": [],
   "source": [
    "test_train_loss = tf.keras.metrics.Mean(name='train_loss')\n",
    "test_train_accuracy = tf.keras.metrics.BinaryAccuracy(name='train_accuracy')\n",
    "\n",
    "\n",
    "@tf.function\n",
    "def test_train_step(test_inputs, labels):\n",
    "    with tf.GradientTape() as tape:\n",
    "        # training=True is only needed if there are layers with different\n",
    "        # behavior during training versus inference (e.g. Dropout).\n",
    "        predictions = test_model(test_inputs, training=True)\n",
    "        loss = bce(labels, predictions)\n",
    "    gradients = tape.gradient(loss, test_model.trainable_variables)\n",
    "    optimizer.apply_gradients(zip(gradients, test_model.trainable_variables))\n",
    "\n",
    "    test_train_loss(loss)\n",
    "    test_train_accuracy(labels, predictions)"
   ]
  },
  {
   "cell_type": "code",
   "execution_count": 36,
   "id": "3dc84f3a",
   "metadata": {},
   "outputs": [
    {
     "name": "stdout",
     "output_type": "stream",
     "text": [
      "149 epoch, Batch size : 1024, 80 steps, Loss: 0.2030, Accuracy: 95.3\r"
     ]
    }
   ],
   "source": [
    "# for log\n",
    "test_losses = []\n",
    "\n",
    "for epoch in range(MAX_EPOCH):\n",
    "    \n",
    "    batch_size = INIT_USER_BATCH_SIZE * (epoch+1)\n",
    "    if batch_size > FINAL_USER_BATCH_SIZE:\n",
    "        batch_size = FINAL_USER_BATCH_SIZE\n",
    "    test_generator = generate_user_movie_batch(u_m_pairs, batch_size)\n",
    "    \n",
    "    for step in range(len(ratings_df)//batch_size):\n",
    "        # embedding layer update\n",
    "        u_batch, m_batch, u_m_label_batch = next(test_generator)\n",
    "        test_train_step([u_batch, m_batch], u_m_label_batch)\n",
    "        \n",
    "        print(f'{epoch} epoch, Batch size : {batch_size}, {step} steps, Loss: {test_train_loss.result():0.4f}, Accuracy: {test_train_accuracy.result() * 100:0.1f}', end='\\r')\n",
    "\n",
    "    test_losses.append(test_train_loss.result())"
   ]
  },
  {
   "cell_type": "code",
   "execution_count": 37,
   "id": "a9de061b",
   "metadata": {},
   "outputs": [
    {
     "data": {
      "text/plain": [
       "[<matplotlib.lines.Line2D at 0x1a88ec491c0>]"
      ]
     },
     "execution_count": 37,
     "metadata": {},
     "output_type": "execute_result"
    },
    {
     "data": {
      "image/png": "[encoded data removed]",
      "text/plain": [
       "<Figure size 432x288 with 1 Axes>"
      ]
     },
     "metadata": {
      "needs_background": "light"
     },
     "output_type": "display_data"
    }
   ],
   "source": [
    "plt.plot(test_losses)"
   ]
  },
  {
   "cell_type": "code",
   "execution_count": 38,
   "id": "ba60858f",
   "metadata": {},
   "outputs": [],
   "source": [
    "test_model.save_weights('./save_weights/user_movie_at_once.h5')"
   ]
  },
  {
   "cell_type": "code",
   "execution_count": null,
   "id": "70dc9458",
   "metadata": {},
   "outputs": [],
   "source": []
  }
 ],
 "metadata": {
  "kernelspec": {
   "display_name": "Python 3 (ipykernel)",
   "language": "python",
   "name": "python3"
  },
  "language_info": {
   "codemirror_mode": {
    "name": "ipython",
    "version": 3
   },
   "file_extension": ".py",
   "mimetype": "text/x-python",
   "name": "python",
   "nbconvert_exporter": "python",
   "pygments_lexer": "ipython3",
   "version": "3.9.12"
  }
 },
 "nbformat": 4,
 "nbformat_minor": 5
}
